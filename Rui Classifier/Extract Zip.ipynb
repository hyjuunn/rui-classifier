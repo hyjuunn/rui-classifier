{
 "cells": [
  {
   "cell_type": "code",
   "execution_count": 1,
   "id": "a55566ff",
   "metadata": {},
   "outputs": [
    {
     "data": {
      "text/plain": [
       "['Rui Images', '__MACOSX']"
      ]
     },
     "execution_count": 1,
     "metadata": {},
     "output_type": "execute_result"
    }
   ],
   "source": [
    "import zipfile\n",
    "import os\n",
    "\n",
    "zip_file_path = 'Rui Images.zip'  # Path to your uploaded zip file\n",
    "extract_folder_path = 'Rui Images'  # Path where you want to extract the folder\n",
    "\n",
    "with zipfile.ZipFile(zip_file_path, 'r') as zip_ref:\n",
    "    zip_ref.extractall(extract_folder_path)\n",
    "\n",
    "# Check that the folder was extracted\n",
    "os.listdir(extract_folder_path)"
   ]
  },
  {
   "cell_type": "code",
   "execution_count": null,
   "id": "7a2e67ed",
   "metadata": {},
   "outputs": [],
   "source": []
  }
 ],
 "metadata": {
  "kernelspec": {
   "display_name": "Python 3 (ipykernel)",
   "language": "python",
   "name": "python3"
  },
  "language_info": {
   "codemirror_mode": {
    "name": "ipython",
    "version": 3
   },
   "file_extension": ".py",
   "mimetype": "text/x-python",
   "name": "python",
   "nbconvert_exporter": "python",
   "pygments_lexer": "ipython3",
   "version": "3.10.9"
  }
 },
 "nbformat": 4,
 "nbformat_minor": 5
}
