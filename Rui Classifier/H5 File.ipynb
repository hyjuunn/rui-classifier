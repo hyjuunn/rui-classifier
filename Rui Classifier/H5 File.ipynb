{
 "cells": [
  {
   "cell_type": "code",
   "execution_count": 2,
   "id": "c32c710a",
   "metadata": {},
   "outputs": [
    {
     "name": "stdout",
     "output_type": "stream",
     "text": [
      "✅ rui_dataset.h5 created successfully!\n"
     ]
    }
   ],
   "source": [
    "from PIL import Image\n",
    "import numpy as np\n",
    "import os\n",
    "import h5py\n",
    "\n",
    "def crop_and_resize(img, target_size=(256, 256)):\n",
    "    # Get original dimensions\n",
    "    width, height = img.size\n",
    "    target_width, target_height = target_size\n",
    "\n",
    "    # Crop image to square (centered) to avoid squeezing\n",
    "    left = (width - min(width, height)) // 2\n",
    "    top = (height - min(width, height)) // 2\n",
    "    right = (width + min(width, height)) // 2\n",
    "    bottom = (height + min(width, height)) // 2\n",
    "\n",
    "    cropped_img = img.crop((left, top, right, bottom))\n",
    "\n",
    "    # Resize the cropped image to the target size while maintaining the aspect ratio\n",
    "    resized_img = cropped_img.resize(target_size)\n",
    "\n",
    "    return resized_img\n",
    "\n",
    "def load_images_from_folder(folder, label, size=(256, 256)):\n",
    "    images = []\n",
    "    labels = []\n",
    "    \n",
    "    for filename in sorted(os.listdir(folder)):\n",
    "        if filename.lower().endswith((\".jpg\", \".jpeg\", \".png\", \".webp\")):\n",
    "            img_path = os.path.join(folder, filename)\n",
    "            img = Image.open(img_path).convert('RGB')\n",
    "            \n",
    "            # Crop and resize image\n",
    "            img = crop_and_resize(img, size)\n",
    "            \n",
    "            images.append(np.asarray(img))\n",
    "            labels.append(label)\n",
    "    \n",
    "    return images, labels\n",
    "\n",
    "# Paths to folders\n",
    "rui_folder = \"images/Rui\"\n",
    "not_rui_folder = \"images/Non-Rui\"\n",
    "\n",
    "# Load Rui images\n",
    "rui_images, rui_labels = load_images_from_folder(rui_folder, 1)\n",
    "\n",
    "# Load Not-Rui images\n",
    "not_rui_images, not_rui_labels = load_images_from_folder(not_rui_folder, 0)\n",
    "\n",
    "# Combine everything\n",
    "all_images = np.array(rui_images + not_rui_images)\n",
    "all_labels = np.array(rui_labels + not_rui_labels)\n",
    "\n",
    "# Shuffle\n",
    "indices = np.arange(len(all_images))\n",
    "np.random.shuffle(indices)\n",
    "\n",
    "all_images = all_images[indices]\n",
    "all_labels = all_labels[indices]\n",
    "\n",
    "# Save as H5\n",
    "with h5py.File(\"rui_dataset.h5\", \"w\") as f:\n",
    "    f.create_dataset(\"images\", data=all_images)\n",
    "    f.create_dataset(\"labels\", data=all_labels)\n",
    "\n",
    "print(\"✅ rui_dataset.h5 created successfully!\")\n"
   ]
  },
  {
   "cell_type": "code",
   "execution_count": null,
   "id": "9a9592ab",
   "metadata": {},
   "outputs": [],
   "source": []
  }
 ],
 "metadata": {
  "kernelspec": {
   "display_name": "Python 3 (ipykernel)",
   "language": "python",
   "name": "python3"
  },
  "language_info": {
   "codemirror_mode": {
    "name": "ipython",
    "version": 3
   },
   "file_extension": ".py",
   "mimetype": "text/x-python",
   "name": "python",
   "nbconvert_exporter": "python",
   "pygments_lexer": "ipython3",
   "version": "3.10.9"
  }
 },
 "nbformat": 4,
 "nbformat_minor": 5
}
